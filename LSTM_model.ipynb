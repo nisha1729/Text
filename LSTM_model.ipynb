{
  "nbformat": 4,
  "nbformat_minor": 0,
  "metadata": {
    "colab": {
      "name": "LSTM_model.ipynb",
      "provenance": [],
      "authorship_tag": "ABX9TyOatonaiWfzt++G2OV8fRse",
      "include_colab_link": true
    },
    "kernelspec": {
      "name": "python3",
      "display_name": "Python 3"
    },
    "language_info": {
      "name": "python"
    },
    "widgets": {
      "application/vnd.jupyter.widget-state+json": {
        "c9b18daf3f574eee8b72e86108d2f849": {
          "model_module": "@jupyter-widgets/controls",
          "model_name": "HBoxModel",
          "state": {
            "_view_name": "HBoxView",
            "_dom_classes": [],
            "_model_name": "HBoxModel",
            "_view_module": "@jupyter-widgets/controls",
            "_model_module_version": "1.5.0",
            "_view_count": null,
            "_view_module_version": "1.5.0",
            "box_style": "",
            "layout": "IPY_MODEL_ca498d7017504b21a6f2b007e1ecbe73",
            "_model_module": "@jupyter-widgets/controls",
            "children": [
              "IPY_MODEL_4c22401a201245538fa1e48636620a0d",
              "IPY_MODEL_102bf28d199a4f84a5b54d6c6df51aff"
            ]
          }
        },
        "ca498d7017504b21a6f2b007e1ecbe73": {
          "model_module": "@jupyter-widgets/base",
          "model_name": "LayoutModel",
          "state": {
            "_view_name": "LayoutView",
            "grid_template_rows": null,
            "right": null,
            "justify_content": null,
            "_view_module": "@jupyter-widgets/base",
            "overflow": null,
            "_model_module_version": "1.2.0",
            "_view_count": null,
            "flex_flow": null,
            "width": null,
            "min_width": null,
            "border": null,
            "align_items": null,
            "bottom": null,
            "_model_module": "@jupyter-widgets/base",
            "top": null,
            "grid_column": null,
            "overflow_y": null,
            "overflow_x": null,
            "grid_auto_flow": null,
            "grid_area": null,
            "grid_template_columns": null,
            "flex": null,
            "_model_name": "LayoutModel",
            "justify_items": null,
            "grid_row": null,
            "max_height": null,
            "align_content": null,
            "visibility": null,
            "align_self": null,
            "height": null,
            "min_height": null,
            "padding": null,
            "grid_auto_rows": null,
            "grid_gap": null,
            "max_width": null,
            "order": null,
            "_view_module_version": "1.2.0",
            "grid_template_areas": null,
            "object_position": null,
            "object_fit": null,
            "grid_auto_columns": null,
            "margin": null,
            "display": null,
            "left": null
          }
        },
        "4c22401a201245538fa1e48636620a0d": {
          "model_module": "@jupyter-widgets/controls",
          "model_name": "FloatProgressModel",
          "state": {
            "_view_name": "ProgressView",
            "style": "IPY_MODEL_52aab394e7c64848b94fa1d0a0302756",
            "_dom_classes": [],
            "description": "  0%",
            "_model_name": "FloatProgressModel",
            "bar_style": "",
            "max": 13,
            "_view_module": "@jupyter-widgets/controls",
            "_model_module_version": "1.5.0",
            "value": 0,
            "_view_count": null,
            "_view_module_version": "1.5.0",
            "orientation": "horizontal",
            "min": 0,
            "description_tooltip": null,
            "_model_module": "@jupyter-widgets/controls",
            "layout": "IPY_MODEL_e5859009c9ae4c56baaaa9a87e8c76fb"
          }
        },
        "102bf28d199a4f84a5b54d6c6df51aff": {
          "model_module": "@jupyter-widgets/controls",
          "model_name": "HTMLModel",
          "state": {
            "_view_name": "HTMLView",
            "style": "IPY_MODEL_a71e1b24bfb4474ba1910996abd6a66b",
            "_dom_classes": [],
            "description": "",
            "_model_name": "HTMLModel",
            "placeholder": "​",
            "_view_module": "@jupyter-widgets/controls",
            "_model_module_version": "1.5.0",
            "value": " 0/13 [00:00&lt;?, ?it/s]",
            "_view_count": null,
            "_view_module_version": "1.5.0",
            "description_tooltip": null,
            "_model_module": "@jupyter-widgets/controls",
            "layout": "IPY_MODEL_84eec21cf79446d3bac02d54e8d7db3c"
          }
        },
        "52aab394e7c64848b94fa1d0a0302756": {
          "model_module": "@jupyter-widgets/controls",
          "model_name": "ProgressStyleModel",
          "state": {
            "_view_name": "StyleView",
            "_model_name": "ProgressStyleModel",
            "description_width": "initial",
            "_view_module": "@jupyter-widgets/base",
            "_model_module_version": "1.5.0",
            "_view_count": null,
            "_view_module_version": "1.2.0",
            "bar_color": null,
            "_model_module": "@jupyter-widgets/controls"
          }
        },
        "e5859009c9ae4c56baaaa9a87e8c76fb": {
          "model_module": "@jupyter-widgets/base",
          "model_name": "LayoutModel",
          "state": {
            "_view_name": "LayoutView",
            "grid_template_rows": null,
            "right": null,
            "justify_content": null,
            "_view_module": "@jupyter-widgets/base",
            "overflow": null,
            "_model_module_version": "1.2.0",
            "_view_count": null,
            "flex_flow": null,
            "width": null,
            "min_width": null,
            "border": null,
            "align_items": null,
            "bottom": null,
            "_model_module": "@jupyter-widgets/base",
            "top": null,
            "grid_column": null,
            "overflow_y": null,
            "overflow_x": null,
            "grid_auto_flow": null,
            "grid_area": null,
            "grid_template_columns": null,
            "flex": null,
            "_model_name": "LayoutModel",
            "justify_items": null,
            "grid_row": null,
            "max_height": null,
            "align_content": null,
            "visibility": null,
            "align_self": null,
            "height": null,
            "min_height": null,
            "padding": null,
            "grid_auto_rows": null,
            "grid_gap": null,
            "max_width": null,
            "order": null,
            "_view_module_version": "1.2.0",
            "grid_template_areas": null,
            "object_position": null,
            "object_fit": null,
            "grid_auto_columns": null,
            "margin": null,
            "display": null,
            "left": null
          }
        },
        "a71e1b24bfb4474ba1910996abd6a66b": {
          "model_module": "@jupyter-widgets/controls",
          "model_name": "DescriptionStyleModel",
          "state": {
            "_view_name": "StyleView",
            "_model_name": "DescriptionStyleModel",
            "description_width": "",
            "_view_module": "@jupyter-widgets/base",
            "_model_module_version": "1.5.0",
            "_view_count": null,
            "_view_module_version": "1.2.0",
            "_model_module": "@jupyter-widgets/controls"
          }
        },
        "84eec21cf79446d3bac02d54e8d7db3c": {
          "model_module": "@jupyter-widgets/base",
          "model_name": "LayoutModel",
          "state": {
            "_view_name": "LayoutView",
            "grid_template_rows": null,
            "right": null,
            "justify_content": null,
            "_view_module": "@jupyter-widgets/base",
            "overflow": null,
            "_model_module_version": "1.2.0",
            "_view_count": null,
            "flex_flow": null,
            "width": null,
            "min_width": null,
            "border": null,
            "align_items": null,
            "bottom": null,
            "_model_module": "@jupyter-widgets/base",
            "top": null,
            "grid_column": null,
            "overflow_y": null,
            "overflow_x": null,
            "grid_auto_flow": null,
            "grid_area": null,
            "grid_template_columns": null,
            "flex": null,
            "_model_name": "LayoutModel",
            "justify_items": null,
            "grid_row": null,
            "max_height": null,
            "align_content": null,
            "visibility": null,
            "align_self": null,
            "height": null,
            "min_height": null,
            "padding": null,
            "grid_auto_rows": null,
            "grid_gap": null,
            "max_width": null,
            "order": null,
            "_view_module_version": "1.2.0",
            "grid_template_areas": null,
            "object_position": null,
            "object_fit": null,
            "grid_auto_columns": null,
            "margin": null,
            "display": null,
            "left": null
          }
        }
      }
    }
  },
  "cells": [
    {
      "cell_type": "markdown",
      "metadata": {
        "id": "view-in-github",
        "colab_type": "text"
      },
      "source": [
        "<a href=\"https://colab.research.google.com/github/nisha1729/Text-Classifier/blob/master/LSTM_model.ipynb\" target=\"_parent\"><img src=\"https://colab.research.google.com/assets/colab-badge.svg\" alt=\"Open In Colab\"/></a>"
      ]
    },
    {
      "cell_type": "markdown",
      "metadata": {
        "id": "h47nVdldnBzl"
      },
      "source": [
        "# LSTM Model"
      ]
    },
    {
      "cell_type": "markdown",
      "metadata": {
        "id": "90a7r-pXnGyA"
      },
      "source": [
        "### Load Data "
      ]
    },
    {
      "cell_type": "code",
      "metadata": {
        "colab": {
          "base_uri": "https://localhost:8080/"
        },
        "id": "Iw4IwAWaluQp",
        "outputId": "3ed6f046-f675-4895-c45c-353554b6f0b9"
      },
      "source": [
        "!pip install Torchtext==0.04\n",
        "\n",
        "import torch\n",
        "import torchtext\n",
        "from torchtext.datasets import text_classification\n",
        "import os\n",
        "\n",
        "\n",
        "if not os.path.isdir('./.data'):\n",
        "    os.mkdir('./.data')\n",
        "\n",
        "train_dataset, test_dataset = text_classification.DATASETS['AG_NEWS']\\\n",
        "                                (root='./.data', ngrams=2, vocab=None)\n",
        "\n",
        "device = torch.device(\"cuda\" if torch.cuda.is_available() else \"cpu\")"
      ],
      "execution_count": 1,
      "outputs": [
        {
          "output_type": "stream",
          "text": [
            "Requirement already satisfied: Torchtext==0.04 in /usr/local/lib/python3.7/dist-packages (0.4.0)\n",
            "Requirement already satisfied: six in /usr/local/lib/python3.7/dist-packages (from Torchtext==0.04) (1.15.0)\n",
            "Requirement already satisfied: numpy in /usr/local/lib/python3.7/dist-packages (from Torchtext==0.04) (1.19.5)\n",
            "Requirement already satisfied: tqdm in /usr/local/lib/python3.7/dist-packages (from Torchtext==0.04) (4.41.1)\n",
            "Requirement already satisfied: requests in /usr/local/lib/python3.7/dist-packages (from Torchtext==0.04) (2.23.0)\n",
            "Requirement already satisfied: torch in /usr/local/lib/python3.7/dist-packages (from Torchtext==0.04) (1.8.1+cu101)\n",
            "Requirement already satisfied: chardet<4,>=3.0.2 in /usr/local/lib/python3.7/dist-packages (from requests->Torchtext==0.04) (3.0.4)\n",
            "Requirement already satisfied: certifi>=2017.4.17 in /usr/local/lib/python3.7/dist-packages (from requests->Torchtext==0.04) (2020.12.5)\n",
            "Requirement already satisfied: urllib3!=1.25.0,!=1.25.1,<1.26,>=1.21.1 in /usr/local/lib/python3.7/dist-packages (from requests->Torchtext==0.04) (1.24.3)\n",
            "Requirement already satisfied: idna<3,>=2.5 in /usr/local/lib/python3.7/dist-packages (from requests->Torchtext==0.04) (2.10)\n",
            "Requirement already satisfied: typing-extensions in /usr/local/lib/python3.7/dist-packages (from torch->Torchtext==0.04) (3.7.4.3)\n"
          ],
          "name": "stdout"
        },
        {
          "output_type": "stream",
          "text": [
            "120000lines [00:11, 10396.31lines/s]\n",
            "120000lines [00:19, 6184.95lines/s]\n",
            "7600lines [00:01, 6338.87lines/s]\n"
          ],
          "name": "stderr"
        }
      ]
    },
    {
      "cell_type": "markdown",
      "metadata": {
        "id": "MeczK3NenJ3d"
      },
      "source": [
        "## Define Model"
      ]
    },
    {
      "cell_type": "markdown",
      "metadata": {
        "id": "7Pi8WHDLnWc8"
      },
      "source": [
        "## Test and Train fucntions\n"
      ]
    },
    {
      "cell_type": "code",
      "metadata": {
        "id": "k7E7z26AnY6T"
      },
      "source": [
        "from torch.utils.data import DataLoader\n",
        "\n",
        "\n",
        "\n",
        "def pad(text):\n",
        "  # pad each sequence in every mini-batch with zeros\n",
        "    num_words = DOC_LENGTH\n",
        "    if len(text) > num_words:\n",
        "        return text[:num_words]\n",
        "    else:\n",
        "        short = num_words - len(text)\n",
        "        padded = torch.cat([text.to(device), torch.zeros(short).long().to(device)])\n",
        "        return padded\n",
        "\n",
        "def generate_batch(data_batch):\n",
        "    label = torch.tensor([entry[0] for entry in data_batch])\n",
        "    text = [pad(entry[1]) for entry in data_batch]\n",
        "    offsets = [0] + [len(entry) for entry in text]  \n",
        "\n",
        "    offsets = torch.tensor(offsets[:-1]).cumsum(dim=0)\n",
        "    text = torch.stack(text).permute(1,0)\n",
        "    return text, offsets, label\n",
        "\n",
        "\n",
        "def train(train_data):\n",
        "    train_loss = 0\n",
        "    total_acc = 0\n",
        "\n",
        "    data = DataLoader(train_data, batch_size=BATCH_SIZE, shuffle=True, collate_fn=generate_batch)\n",
        "  \n",
        "    for i, (text, offsets, cls) in enumerate(data):\n",
        "        optimizer.zero_grad()        \n",
        "        \n",
        "        text, offsets, cls = text.to(device), offsets.to(device), cls.to(device)\n",
        "        output = model(text, offsets)\n",
        "\n",
        "        loss = criterion(output, cls)\n",
        "        train_loss += loss.item()\n",
        "\n",
        "        loss.backward()\n",
        "        optimizer.step()\n",
        "\n",
        "        total_acc += (output.argmax(1) == cls).sum().item() \n",
        "\n",
        "    scheduler.step()\n",
        "\n",
        "    total_train_loss = train_loss/len(train_data)\n",
        "    total_train_acc = total_acc/len(train_data)\n",
        "\n",
        "    return total_train_loss, total_train_acc \n",
        "\n",
        "\n",
        "def test(test_data):\n",
        "    test_acc = 0\n",
        "    test_loss = 0\n",
        "    data = DataLoader(test_data, batch_size=BATCH_SIZE, shuffle=False, collate_fn=generate_batch)\n",
        "    \n",
        "    for text, offsets, cls in data:\n",
        "        text, offsets, cls = text.to(device), offsets.to(device), cls.to(device)\n",
        "        with torch.no_grad():\n",
        "            output = model(text, offsets)\n",
        "            \n",
        "            loss = criterion(output, cls)\n",
        "            test_loss += loss.item()\n",
        "            \n",
        "            test_acc += (output.argmax(1) == cls).sum().item()\n",
        "\n",
        "            total_test_loss = test_loss/len(test_data)\n",
        "            total_test_acc = test_acc/len(test_data)\n",
        "\n",
        "    return total_test_loss, total_test_acc"
      ],
      "execution_count": 64,
      "outputs": []
    },
    {
      "cell_type": "markdown",
      "metadata": {
        "id": "ObgEfRPW8n-k"
      },
      "source": [
        "data_batch is batch of 16 sequances in the form` [(label,text)]`"
      ]
    },
    {
      "cell_type": "markdown",
      "metadata": {
        "id": "1rSDoUUInM1A"
      },
      "source": [
        "## Train the model"
      ]
    },
    {
      "cell_type": "code",
      "metadata": {
        "id": "w_NXVHULlbos"
      },
      "source": [
        "from torch import nn\n",
        "\n",
        "\n",
        "HIDDEN_DIM = 256\n",
        "OUTPUT_DIM = 4\n",
        "VOCAB_SIZE = len(train_dataset.get_vocab())\n",
        "NUM_CLASS = len(train_dataset.get_labels())\n",
        "lr =  2e-5\n",
        "BATCH_SIZE = 16\n",
        "EMBEDDING_DIM = 32\n",
        "DOC_LENGTH = 500 # length of each sequence in a mini_batch\n",
        "criterion = nn.CrossEntropyLoss()\n"
      ],
      "execution_count": null,
      "outputs": []
    },
    {
      "cell_type": "markdown",
      "metadata": {
        "id": "dZv0ffvcCgSC"
      },
      "source": [
        "![generate_batch_with_pad.png](data:image/png;base64,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)"
      ]
    },
    {
      "cell_type": "code",
      "metadata": {
        "id": "AEAs5AfwlV7b"
      },
      "source": [
        "from torch import nn\n",
        "\n",
        "\n",
        "class LSTM(nn.Module):\n",
        "    def __init__(self, embedding_dim, hidden_dim, output_dim, vocab_size):\n",
        "        \n",
        "        super().__init__()\n",
        "\n",
        "        self.embedding_dim = embedding_dim\n",
        "        self.embedding = nn.Embedding(vocab_size, embedding_dim)\n",
        "        self.lstm = nn.LSTM(embedding_dim, hidden_dim)\n",
        "        self.fc = nn.Linear(hidden_dim, output_dim)\n",
        "        \n",
        "        \n",
        "    def forward(self, text, offset):\n",
        "        embedded = self.embedding(text.to(device))\n",
        "        last_output, (last_hidden, last_cell) = self.lstm(embedded)\n",
        "        output = self.fc(last_hidden[-1])\n",
        "        return output "
      ],
      "execution_count": 71,
      "outputs": []
    },
    {
      "cell_type": "code",
      "metadata": {
        "colab": {
          "base_uri": "https://localhost:8080/",
          "height": 49,
          "referenced_widgets": [
            "c9b18daf3f574eee8b72e86108d2f849",
            "ca498d7017504b21a6f2b007e1ecbe73",
            "4c22401a201245538fa1e48636620a0d",
            "102bf28d199a4f84a5b54d6c6df51aff",
            "52aab394e7c64848b94fa1d0a0302756",
            "e5859009c9ae4c56baaaa9a87e8c76fb",
            "a71e1b24bfb4474ba1910996abd6a66b",
            "84eec21cf79446d3bac02d54e8d7db3c"
          ]
        },
        "id": "kvr-m200leov",
        "outputId": "0bd310e4-fc0a-4ca8-ed5b-df9ab8b6f29c"
      },
      "source": [
        "import time\n",
        "from torch.utils.data.dataset import random_split\n",
        "from torch import nn\n",
        "from tqdm.autonotebook import tqdm\n",
        "\n",
        "\n",
        "N_EPOCHS = 13\n",
        "TRAIN_RATIO = 0.9\n",
        "valid_loss = float('inf')\n",
        "\n",
        "model = LSTM(EMBEDDING_DIM, HIDDEN_DIM, NUM_CLASS, VOCAB_SIZE).to(device)\n",
        "\n",
        "\n",
        "criterion = nn.CrossEntropyLoss().to(device)\n",
        "optimizer = torch.optim.Adam(model.parameters() )\n",
        "scheduler = torch.optim.lr_scheduler.StepLR(optimizer, 1, gamma=0.9)\n",
        "\n",
        "train_size = int(len(train_dataset)*TRAIN_RATIO)\n",
        "val_size = len(train_dataset) - train_size\n",
        "train_set, val_set = random_split(train_dataset, [train_size, val_size])\n",
        "\n",
        "for epoch in tqdm(range(N_EPOCHS)):\n",
        "    start_time = time.time()\n",
        "    train_loss, train_acc = train(train_set)\n",
        "    valid_loss, valid_acc = test(val_set)\n",
        "    secs = int(time.time() - start_time)\n",
        "    \n",
        "    print('Epoch: %d' %(epoch + 1), \" | time : .2f\" %(secs/60))\n",
        "    print(f'\\tLoss: {train_loss:.4f}(train)\\t|\\tAcc: {train_acc * 100:.1f}%(train)')\n",
        "    print(f'\\tLoss: {valid_loss:.4f}(valid)\\t|\\tAcc: {valid_acc * 100:.1f}%(valid)')\n",
        "    torch.save(model.state_dict(), f\"model_{epoch+5}\")"
      ],
      "execution_count": null,
      "outputs": [
        {
          "output_type": "display_data",
          "data": {
            "application/vnd.jupyter.widget-view+json": {
              "model_id": "c9b18daf3f574eee8b72e86108d2f849",
              "version_minor": 0,
              "version_major": 2
            },
            "text/plain": [
              "HBox(children=(FloatProgress(value=0.0, max=13.0), HTML(value='')))"
            ]
          },
          "metadata": {
            "tags": []
          }
        }
      ]
    },
    {
      "cell_type": "markdown",
      "metadata": {
        "id": "xgEbRYkGsdJZ"
      },
      "source": [
        "for the test function, load each model for each epoch and generate its results on the test dataset, this way we will findout when to stop.\n",
        "\n",
        "\n",
        "\n"
      ]
    },
    {
      "cell_type": "code",
      "metadata": {
        "id": "Fb08-1c3lfpa"
      },
      "source": [
        "for i in range(13):\n",
        "    torch.cuda.empty_cache() \n",
        "    model = LSTM(32, HIDDEN_DIM, 4, VOCAB_SIZE).to(device)\n",
        "    model.load_state_dict(torch.load(f\"model_{i}\"))\n",
        "    print(f'Epoch{i+1} test results........using model{i+1}')\n",
        "    test_loss, test_acc = test(test_dataset)\n",
        "    print(f'\\tLoss: {test_loss:.4f}(test)\\t|\\tAcc: {test_acc * 100:.1f}%(test)')"
      ],
      "execution_count": null,
      "outputs": []
    }
  ]
}