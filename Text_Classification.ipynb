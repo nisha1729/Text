{
  "nbformat": 4,
  "nbformat_minor": 0,
  "metadata": {
    "kernelspec": {
      "name": "python3",
      "display_name": "Python 3"
    },
    "language_info": {
      "codemirror_mode": {
        "name": "ipython",
        "version": 3
      },
      "file_extension": ".py",
      "mimetype": "text/x-python",
      "name": "python",
      "nbconvert_exporter": "python",
      "pygments_lexer": "ipython3",
      "version": "3.6.7"
    },
    "colab": {
      "name": "Text_Classification.ipynb",
      "provenance": [],
      "collapsed_sections": [],
      "toc_visible": true,
      "include_colab_link": true
    },
    "accelerator": "GPU"
  },
  "cells": [
    {
      "cell_type": "markdown",
      "metadata": {
        "id": "view-in-github",
        "colab_type": "text"
      },
      "source": [
        "<a href=\"https://colab.research.google.com/github/nisha1729/Text-Classifier/blob/master/Text_Classification.ipynb\" target=\"_parent\"><img src=\"https://colab.research.google.com/assets/colab-badge.svg\" alt=\"Open In Colab\"/></a>"
      ]
    },
    {
      "cell_type": "markdown",
      "metadata": {
        "id": "NsS-N2NvnaPR"
      },
      "source": [
        "# Text Classification in PyTorch\n",
        "\n",
        "## Introduction\n",
        "This project deals with neural text classification using PyTorch. \n",
        "## Load Data\n",
        "\n",
        "A bag of **ngrams** feature is applied to capture some partial information about the local word order. In practice, bi-grams or tri-grams are applied to provide more benefits as word groups than only one word.\n",
        "\n",
        "**Example:**\n",
        "\n",
        "*\"I love Neural Networks\"*\n",
        "* **Bi-grams:** \"I love\", \"love Neural\", \"Neural Networks\"\n",
        "* **Tri-grams:** \"I love Neural\", \"love Neural Networks\"\n",
        "\n",
        "In the code below, we have loaded the `AG_NEWS` dataset from the ``torchtext.datasets.TextClassification`` package with bi-grams feature. The dataset supports the ngrams method. By setting ngrams to 2, the example text in the dataset will be a list of single words plus bi-grams string."
      ]
    },
    {
      "cell_type": "code",
      "metadata": {
        "id": "vifJXYa-IAsi"
      },
      "source": [
        "!pip install Torchtext==0.04"
      ],
      "execution_count": null,
      "outputs": []
    },
    {
      "cell_type": "code",
      "metadata": {
        "id": "WlkX6FDPnaPV",
        "colab": {
          "base_uri": "https://localhost:8080/"
        },
        "outputId": "c33c158a-ce30-492c-d3d9-7ab58c3d591d"
      },
      "source": [
        "# Load the AG_NEWS dataset in bi-gram features format.\n",
        "\n",
        "import torch\n",
        "import torchtext\n",
        "from torchtext.datasets import text_classification\n",
        "import os\n",
        "\n",
        "\n",
        "NGRAMS = 2\n",
        "\n",
        "if not os.path.isdir('./.data'):\n",
        "    os.mkdir('./.data')\n",
        "\n",
        "train_dataset, test_dataset = text_classification.DATASETS['AG_NEWS'](root='./.data', ngrams=NGRAMS, vocab=None)\n",
        "\n",
        "BATCH_SIZE = 16\n",
        "\n",
        "device = torch.device(\"cuda\" if torch.cuda.is_available() else \"cpu\")"
      ],
      "execution_count": 2,
      "outputs": [
        {
          "output_type": "stream",
          "text": [
            "120000lines [00:07, 16406.36lines/s]\n",
            "120000lines [00:14, 8010.90lines/s]\n",
            "7600lines [00:00, 8205.85lines/s]\n"
          ],
          "name": "stderr"
        }
      ]
    },
    {
      "cell_type": "markdown",
      "metadata": {
        "id": "2JSPieaznaPh"
      },
      "source": [
        "\n",
        "## Analysing the Dataset"
      ]
    },
    {
      "cell_type": "markdown",
      "metadata": {
        "id": "Tlx95HtgnaPj"
      },
      "source": [
        "The vocab size is equal to the length of vocab (including single word and ngrams). "
      ]
    },
    {
      "cell_type": "code",
      "metadata": {
        "id": "hERyl4WRnaPk",
        "colab": {
          "base_uri": "https://localhost:8080/"
        },
        "outputId": "3c3f495d-639a-4c7b-ea67-07bd8f16e0ab"
      },
      "source": [
        "# Paramters and model instance creation.\n",
        "\n",
        "VOCAB_SIZE = len(train_dataset.get_vocab())\n",
        "NUM_CLASS = len(train_dataset.get_labels())\n",
        "\n",
        "print(VOCAB_SIZE)\n",
        "print(NUM_CLASS)\n",
        "\n",
        "# see how the data looks\n",
        "print(train_dataset[0]) "
      ],
      "execution_count": 3,
      "outputs": [
        {
          "output_type": "stream",
          "text": [
            "1308844\n",
            "4\n",
            "(2, tensor([    572,     564,       2,    2326,   49106,     150,      88,       3,\n",
            "           1143,      14,      32,      15,      32,      16,  443749,       4,\n",
            "            572,     499,      17,      10,  741769,       7,  468770,       4,\n",
            "             52,    7019,    1050,     442,       2,   14341,     673,  141447,\n",
            "         326092,   55044,    7887,     411,    9870,  628642,      43,      44,\n",
            "            144,     145,  299709,  443750,   51274,     703,   14312,      23,\n",
            "        1111134,  741770,  411508,  468771,    3779,   86384,  135944,  371666,\n",
            "           4052]))\n"
          ],
          "name": "stdout"
        }
      ]
    },
    {
      "cell_type": "markdown",
      "metadata": {
        "id": "8me6_8NWnaPb"
      },
      "source": [
        "## Model\n",
        "\n",
        "The first simple model is composed of an [`EmbeddingBag`](https://pytorch.org/docs/stable/nn.html?highlight=embeddingbag#torch.nn.EmbeddingBag) layer and a linear layer.\n",
        "\n",
        "``EmbeddingBag`` computes the mean value of a “bag” of embeddings. The text entries here have different lengths. ``EmbeddingBag`` requires no padding here since the text lengths are saved in offsets. Additionally, since ``EmbeddingBag`` accumulates the average across the embeddings on the fly, ``EmbeddingBag`` can enhance the performance and memory efficiency to process a sequence of tensors."
      ]
    },
    {
      "cell_type": "code",
      "metadata": {
        "id": "v6IKKsWPnaPc"
      },
      "source": [
        "import torch.nn as nn\n",
        "\n",
        "class TextClassifier(nn.Module):\n",
        "\n",
        "    def __init__(self, vocab_size, dim, num_class):\n",
        "        super().__init__()\n",
        "\n",
        "        self.layer1 = nn.EmbeddingBag(vocab_size, dim)\n",
        "        self.layer2 = nn.Linear(dim, num_class)\n",
        "\n",
        "        self.init_weights()\n",
        "\n",
        "    def init_weights(self):\n",
        "        self.layer1.weight.data.uniform_(-0.5, 0.5)\n",
        "        self.layer2.weight.data.uniform_(-0.5, 0.5)\n",
        "        self.layer2.bias.data.fill_(0.)\n",
        "    \n",
        "    def forward(self,in_text, in_offset):\n",
        "        out1 = self.layer1(in_text, in_offset)\n",
        "        out2 = self.layer2(out1)\n",
        "        return out2"
      ],
      "execution_count": 4,
      "outputs": []
    },
    {
      "cell_type": "markdown",
      "metadata": {
        "id": "bOTvp_xLnaPr"
      },
      "source": [
        "## Generate batch\n",
        "\n",
        "Since the text entries have different lengths, you need to create a custom function to generate data batches and offsets. This function should be passed to the ``collate_fn`` parameter in the ``DataLoader``. The input to ``collate_fn`` is a list of tensors with the size of batch_size, and the ``collate_fn`` function packs them into a mini-batch. ``collate_fn`` must be declared as a top level definition. This ensures that the function is available in each worker. \n",
        "\n",
        "The text entries in the original data batch input are packed into a list and concatenated as a single tensor as the input of ``EmbeddingBag``. The offsets is a tensor of delimiters to represent the beginning index of the individual sequence in the text tensor. Label is a tensor saving the labels of individual text entries.\n",
        "\n",
        "This function takes batch as an input parameter. Each entry in the batch contains a pair of values of the text and the corresponding label."
      ]
    },
    {
      "cell_type": "code",
      "metadata": {
        "id": "vK2I9Bz_naPt"
      },
      "source": [
        "def generate_batch(data_batch):\n",
        "    \n",
        "    label = torch.tensor([entry[0] for entry in data_batch])\n",
        "    text = [entry[1] for entry in data_batch]\n",
        "    offsets = [0] + [len(entry) for entry in text]  \n",
        "\n",
        "    offsets = torch.tensor(offsets[:-1]).cumsum(dim=0)\n",
        "    text = torch.cat(text)\n",
        "    return text, offsets, label"
      ],
      "execution_count": 5,
      "outputs": []
    },
    {
      "cell_type": "markdown",
      "metadata": {
        "id": "24RmvGUcnaPx"
      },
      "source": [
        "#### Train Function\n",
        "\n"
      ]
    },
    {
      "cell_type": "code",
      "metadata": {
        "id": "d4wyZacXnaPy"
      },
      "source": [
        "from torch.utils.data import DataLoader\n",
        "\n",
        "def train(train_data):\n",
        "    \n",
        "    train_loss = 0\n",
        "    total_acc = 0\n",
        "\n",
        "    data = DataLoader(train_data, batch_size=BATCH_SIZE, shuffle=True, collate_fn=generate_batch)\n",
        "  \n",
        "    for i, (text, offsets, cls) in enumerate(data):\n",
        "        optimizer.zero_grad()        \n",
        "        \n",
        "        text, offsets, cls = text.to(device), offsets.to(device), cls.to(device)\n",
        "        output = model(text, offsets)\n",
        "\n",
        "        loss = criterion(output, cls)\n",
        "        train_loss += loss.item()\n",
        "\n",
        "        loss.backward()\n",
        "        optimizer.step()\n",
        "\n",
        "        total_acc += (output.argmax(1) == cls).sum().item() \n",
        "\n",
        "    scheduler.step()\n",
        "\n",
        "    total_train_loss = train_loss/len(train_data)\n",
        "    total_train_acc = total_acc/len(train_data)\n",
        "\n",
        "    return total_train_loss, total_train_acc "
      ],
      "execution_count": 6,
      "outputs": []
    },
    {
      "cell_type": "markdown",
      "metadata": {
        "id": "kTrB40W5naP1"
      },
      "source": [
        "#### Test function"
      ]
    },
    {
      "cell_type": "code",
      "metadata": {
        "id": "H2_Cs8URnaP2"
      },
      "source": [
        "def test(test_data):\n",
        "        \n",
        "    test_acc = 0\n",
        "    test_loss = 0\n",
        "    data = DataLoader(test_data, batch_size=BATCH_SIZE, shuffle=False, collate_fn=generate_batch)\n",
        "    \n",
        "    for text, offsets, cls in data:\n",
        "        text, offsets, cls = text.to(device), offsets.to(device), cls.to(device)\n",
        "        with torch.no_grad():\n",
        "            output = model(text, offsets)\n",
        "            \n",
        "            loss = criterion(output, cls)\n",
        "            test_loss += loss.item()\n",
        "            \n",
        "            test_acc += (output.argmax(1) == cls).sum().item()\n",
        "\n",
        "            total_test_loss = test_loss/len(test_data)\n",
        "            total_test_acc = test_acc/len(test_data)\n",
        "\n",
        "    return total_test_loss, total_test_acc\n"
      ],
      "execution_count": 7,
      "outputs": []
    },
    {
      "cell_type": "markdown",
      "metadata": {
        "id": "ykQ7dEJBnaP6"
      },
      "source": [
        "## Split the dataset and run the model"
      ]
    },
    {
      "cell_type": "code",
      "metadata": {
        "id": "BIB13x5pnaP7",
        "colab": {
          "base_uri": "https://localhost:8080/"
        },
        "outputId": "2a6e6d7f-562c-49b5-acdc-7890bd6bc6ed"
      },
      "source": [
        "import time\n",
        "from tqdm import tqdm\n",
        "from torch.utils.data.dataset import random_split\n",
        "\n",
        "\n",
        "N_EPOCHS = 5\n",
        "LEARNING_RATE = 4.0\n",
        "TRAIN_RATIO = 0.9\n",
        "EMBED_DIM = 32 \n",
        "\n",
        "model = TextClassifier(VOCAB_SIZE, EMBED_DIM, NUM_CLASS).to(device)\n",
        "\n",
        "# set the intial validation loss to positive infinity\n",
        "valid_loss = float('inf')\n",
        "\n",
        "criterion = nn.CrossEntropyLoss().to(device)\n",
        "optimizer = torch.optim.SGD(model.parameters(), lr=LEARNING_RATE)\n",
        "scheduler = torch.optim.lr_scheduler.StepLR(optimizer, 1, gamma=0.9)\n",
        "\n",
        "train_size = int(len(train_dataset)*TRAIN_RATIO) \n",
        "val_size = len(train_dataset) - train_size\n",
        "\n",
        "train_set, val_set = random_split(train_dataset, [train_size, val_size])\n",
        "\n",
        "for epoch in tqdm(range(N_EPOCHS)):\n",
        "  start_time = time.time()\n",
        "  train_loss, train_acc = train(train_set)\n",
        "  valid_loss, valid_acc = test(val_set)\n",
        "\n",
        "  secs = int(time.time() - start_time)\n",
        "  mins = secs / 60\n",
        "  secs = secs % 60\n",
        "  print('Epoch: %d' %(epoch + 1), \" | time in %d minutes, %d seconds\" %(mins, secs))\n",
        "  print(f'\\Loss: {train_loss:.4f}(train)\\t|\\tAcc: {train_acc * 100:.1f}%(train)')\n",
        "  print(f'\\tLoss: {valid_loss:.4f}(valid)\\t|\\tAcc: {valid_acc * 100:.1f}%(valid)')"
      ],
      "execution_count": 8,
      "outputs": [
        {
          "output_type": "stream",
          "text": [
            " 20%|██        | 1/5 [00:48<03:13, 48.43s/it]"
          ],
          "name": "stderr"
        },
        {
          "output_type": "stream",
          "text": [
            "Epoch: 1  | time in 0 minutes, 48 seconds\n",
            "\\Loss: 0.0266(train)\t|\tAcc: 84.3%(train)\n",
            "\tLoss: 0.0227(valid)\t|\tAcc: 87.2%(valid)\n"
          ],
          "name": "stdout"
        },
        {
          "output_type": "stream",
          "text": [
            "\r 40%|████      | 2/5 [01:36<02:25, 48.41s/it]"
          ],
          "name": "stderr"
        },
        {
          "output_type": "stream",
          "text": [
            "Epoch: 2  | time in 0 minutes, 48 seconds\n",
            "\\Loss: 0.0119(train)\t|\tAcc: 93.7%(train)\n",
            "\tLoss: 0.0173(valid)\t|\tAcc: 90.9%(valid)\n"
          ],
          "name": "stdout"
        },
        {
          "output_type": "stream",
          "text": [
            "\r 60%|██████    | 3/5 [02:25<01:36, 48.39s/it]"
          ],
          "name": "stderr"
        },
        {
          "output_type": "stream",
          "text": [
            "Epoch: 3  | time in 0 minutes, 48 seconds\n",
            "\\Loss: 0.0069(train)\t|\tAcc: 96.4%(train)\n",
            "\tLoss: 0.0184(valid)\t|\tAcc: 91.2%(valid)\n"
          ],
          "name": "stdout"
        },
        {
          "output_type": "stream",
          "text": [
            "\r 80%|████████  | 4/5 [03:13<00:48, 48.38s/it]"
          ],
          "name": "stderr"
        },
        {
          "output_type": "stream",
          "text": [
            "Epoch: 4  | time in 0 minutes, 48 seconds\n",
            "\\Loss: 0.0038(train)\t|\tAcc: 98.2%(train)\n",
            "\tLoss: 0.0215(valid)\t|\tAcc: 90.5%(valid)\n"
          ],
          "name": "stdout"
        },
        {
          "output_type": "stream",
          "text": [
            "100%|██████████| 5/5 [04:01<00:00, 48.39s/it]"
          ],
          "name": "stderr"
        },
        {
          "output_type": "stream",
          "text": [
            "Epoch: 5  | time in 0 minutes, 48 seconds\n",
            "\\Loss: 0.0022(train)\t|\tAcc: 99.0%(train)\n",
            "\tLoss: 0.0219(valid)\t|\tAcc: 91.0%(valid)\n"
          ],
          "name": "stdout"
        },
        {
          "output_type": "stream",
          "text": [
            "\n"
          ],
          "name": "stderr"
        }
      ]
    },
    {
      "cell_type": "markdown",
      "metadata": {
        "id": "SABvK7tgf-Mx"
      },
      "source": [
        "## Test the model"
      ]
    },
    {
      "cell_type": "code",
      "metadata": {
        "id": "lihUDKMinaP_",
        "colab": {
          "base_uri": "https://localhost:8080/"
        },
        "outputId": "1da1d37b-2d12-487f-f05e-ae22badba3b6"
      },
      "source": [
        "# the results (loss and accuracy) on the test data\n",
        "\n",
        "print('Checking the results of test dataset')\n",
        "test_loss, test_acc = test(test_dataset)\n",
        "print(f'\\tLoss: {test_loss:.4f}(test)\\t|\\tAcc: {test_acc * 100:.1f}%(test)')"
      ],
      "execution_count": 9,
      "outputs": [
        {
          "output_type": "stream",
          "text": [
            "Checking the results of test dataset\n",
            "\tLoss: 0.0278(test)\t|\tAcc: 88.4%(test)\n"
          ],
          "name": "stdout"
        }
      ]
    },
    {
      "cell_type": "code",
      "metadata": {
        "id": "4rgpN26NnaQB",
        "colab": {
          "base_uri": "https://localhost:8080/"
        },
        "outputId": "cff24631-c943-4c5d-c316-9e2bba356ba2"
      },
      "source": [
        "# importing necessary libraries\n",
        "\n",
        "import re\n",
        "from torchtext.data.utils import ngrams_iterator\n",
        "from torchtext.data.utils import get_tokenizer\n",
        "\n",
        "# labels for the AG_NEWS dataset\n",
        "\n",
        "ag_news_label = {1 : \"World\",\n",
        "                 2 : \"Sports\",\n",
        "                 3 : \"Business\",\n",
        "                 4 : \"Sci/Tec\"}\n",
        "\n",
        "def predict(text, model, vocab, ngrams):\n",
        "    tokenizer = get_tokenizer(\"basic_english\")\n",
        "    with torch.no_grad():\n",
        "        text = torch.tensor([vocab[token]\n",
        "                            for token in ngrams_iterator(tokenizer(text), ngrams)])\n",
        "        output = model(text, torch.tensor([0]))\n",
        "        return output.argmax(1).item() + 1\n",
        "\n",
        "ex_text_str = \"MEMPHIS, Tenn. – Four days ago, Jon Rahm was \\\n",
        "    enduring the season’s worst weather conditions on Sunday at The \\\n",
        "    Open on his way to a closing 75 at Royal Portrush, which \\\n",
        "    considering the wind and the rain was a respectable showing. \\\n",
        "    Thursday’s first round at the WGC-FedEx St. Jude Invitational \\\n",
        "    was another story. With temperatures in the mid-80s and hardly any \\\n",
        "    wind, the Spaniard was 13 strokes better in a flawless round. \\\n",
        "    Thanks to his best putting performance on the PGA Tour, Rahm \\\n",
        "    finished with an 8-under 62 for a three-stroke lead, which \\\n",
        "    was even more impressive considering he’d never played the \\\n",
        "    front nine at TPC Southwind.\"\n",
        "\n",
        "vocab = train_dataset.get_vocab()\n",
        "model = model.to(\"cpu\")\n",
        "\n",
        "print(\"This is a '%s' news\" % ag_news_label[predict(ex_text_str, model, vocab, 2)])"
      ],
      "execution_count": 10,
      "outputs": [
        {
          "output_type": "stream",
          "text": [
            "This is a 'Sports' news\n"
          ],
          "name": "stdout"
        }
      ]
    },
    {
      "cell_type": "markdown",
      "metadata": {
        "id": "d-7AekGPnaQE"
      },
      "source": [
        "Try out with some random text samples"
      ]
    },
    {
      "cell_type": "code",
      "metadata": {
        "id": "zhPxu0-57Z0I",
        "colab": {
          "base_uri": "https://localhost:8080/"
        },
        "outputId": "c7ebfd9c-7b63-4878-869b-67b82fc79943"
      },
      "source": [
        "ex_text_str_sport = \"In finishing third in Group D, Ireland scored a measly \\\n",
        "    seven goals in eight matches, a figure in stark contrast to the 23 scored \\\n",
        "    by second-placed Denmark, and the 19 scored by group winners Switzerland. \\\n",
        "    It’s a problem that has affected Ireland for a while, especially since the \\\n",
        "    retirement of legendary striker Robbie Keane. Both Martin O’Neill and now \\\n",
        "    McCarthy have struggled to find a forward who can be relied upon to \\\n",
        "    consistently deliver the goods.\"\n",
        "\n",
        "ex_text_str_scitech = \"A new month means new games: Sony has announced the \\\n",
        "    new free games for PS Plus members. The company seems to have been quite \\\n",
        "    generous lately, because there are more than the two titles we are used to.\\\n",
        "    Already in January 2020 PS-Plus members could look forward to four games, \\\n",
        "    in February Sony awards three titles worth almost 120 euros, which are \\\n",
        "    presented as usual via a short trailer.\"\n",
        "\n",
        "ex_text_str_world = \"Asia reported hundreds of new coronavirus cases \\\n",
        "    on Wednesday, including a U.S. soldier stationed in South Korea, as the \\\n",
        "    United States warned of an inevitable pandemic and outbreaks in Italy and \\\n",
        "    Iran spread to other countries.\"\n",
        "\n",
        "ex_text_str_business = \"World stocks tumbled for the fifth day on fears of \\\n",
        "    prolonged disruption to global supply chains, while safe-haven gold rose \\\n",
        "    back towards seven-year highs and U.S. bond yields held near record lows. \\\n",
        "    Stock markets globally have wiped out $3.3 trillion of value in the past \\\n",
        "    four trading sessions, as measured by the MSCI all-country index.\"\n",
        "\n",
        "print(\"This is a '%s' text\" % ag_news_label[predict(ex_text_str_sport, model, vocab, 2)])\n",
        "print(\"This is a '%s' text\" % ag_news_label[predict(ex_text_str_scitech, model, vocab, 2)])\n",
        "print(\"This is a '%s' text\" % ag_news_label[predict(ex_text_str_world, model, vocab, 2)])\n",
        "print(\"This is a '%s' text\" % ag_news_label[predict(ex_text_str_business, model, vocab, 2)])"
      ],
      "execution_count": 11,
      "outputs": [
        {
          "output_type": "stream",
          "text": [
            "This is a 'Sports' text\n",
            "This is a 'Sci/Tec' text\n",
            "This is a 'World' text\n",
            "This is a 'Business' text\n"
          ],
          "name": "stdout"
        }
      ]
    },
    {
      "cell_type": "markdown",
      "metadata": {
        "id": "wOtgVgQow1nk"
      },
      "source": [
        "The model is performing quite well. It was able to distiguish between video games and sports, and correctly classifier the second example as 'Sci/Tec'"
      ]
    },
    {
      "cell_type": "code",
      "metadata": {
        "id": "LEmLqQBswx_l",
        "colab": {
          "base_uri": "https://localhost:8080/"
        },
        "outputId": "d021c2f5-e334-4573-9c78-fbbe2a7d1ce7"
      },
      "source": [
        "ex_text_str1 = \"The effect of elections on the economy is stunning. It could \\\n",
        "    either be the start of a new trend or the same pattern that has been \\\n",
        "    going on for the past few decades.\"\n",
        "\n",
        "ex_text_str2 = \"In the beginning the Universe was created.\\\n",
        "    This had made many people very angry and has been widely \\\n",
        "    regarded as a bad move. The humans have been trying to figure out \\\n",
        "    why they spend so much time between looking at the digital clocks\"\n",
        "\n",
        "ex_text_str3 = \"At the spawn point, there’s a lovely little village. \\\n",
        "    This was started as a communal building area, says team member Trog. \\\n",
        "    We let everyone build wherever in that area and then connected paths \\\n",
        "    to each building to make it look more like a village. Even with ten \\\n",
        "    team members all building their own things in the same space, the \\\n",
        "    village manages to look remarkably well put-together, with shops, \\\n",
        "    farms, and even a graveyard.\"\n",
        "\n",
        "print(\"This is a '%s' text\" % ag_news_label[predict(ex_text_str1, model, vocab, 2)])\n",
        "print(\"This is a '%s' text\" % ag_news_label[predict(ex_text_str2, model, vocab, 2)])\n",
        "print(\"This is a '%s' text\" % ag_news_label[predict(ex_text_str3, model, vocab, 2)])"
      ],
      "execution_count": 12,
      "outputs": [
        {
          "output_type": "stream",
          "text": [
            "This is a 'World' text\n",
            "This is a 'Sci/Tec' text\n",
            "This is a 'World' text\n"
          ],
          "name": "stdout"
        }
      ]
    }
  ]
}